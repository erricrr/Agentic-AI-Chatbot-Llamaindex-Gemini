{
 "cells": [
  {
   "cell_type": "code",
   "execution_count": null,
   "metadata": {},
   "outputs": [],
   "source": [
    "# !pip install llama-index-llms-gemini llama-index"
   ]
  },
  {
   "cell_type": "code",
   "execution_count": null,
   "metadata": {},
   "outputs": [
    {
     "name": "stdout",
     "output_type": "stream",
     "text": [
      "Requirement already satisfied: python-dotenv in /Users/ericab/.pyenv/versions/3.10.6/envs/huggingface/lib/python3.10/site-packages (1.0.1)\n"
     ]
    }
   ],
   "source": [
    "# !pip install python-dotenv"
   ]
  },
  {
   "cell_type": "code",
   "execution_count": null,
   "metadata": {},
   "outputs": [],
   "source": [
    "import os\n",
    "from dotenv import load_dotenv\n",
    "\n",
    "load_dotenv()\n",
    "\n",
    "# Get the API key\n",
    "api_key = os.getenv(\"GEMINI_API_KEY\")\n",
    "\n",
    "# print(\"Your API Key:\", api_key)  # Ensure it loads correctly\n"
   ]
  },
  {
   "cell_type": "code",
   "execution_count": null,
   "metadata": {},
   "outputs": [],
   "source": [
    "from llama_index.llms.gemini import Gemini\n",
    "\n",
    "class Generators:\n",
    "    def __init__(self, model=\"models/gemini-2.0-flash\"):\n",
    "        self.llm = Gemini(\n",
    "            model=model,\n",
    "            api_key=api_key,\n",
    "        )\n",
    "\n",
    "    def get_llm(self):\n",
    "        return self.llm"
   ]
  },
  {
   "cell_type": "code",
   "execution_count": 4,
   "metadata": {},
   "outputs": [],
   "source": [
    "import math\n",
    "\n",
    "session = dict()\n",
    "\n",
    "def multiply(a: float, b: float) -> float:\n",
    "    \"\"\"useful tool to Multiply two numbers and returns the product\n",
    "    make sure that both numbers a, b are real numbers and if not try to convert them to real numbers\n",
    "    args:\n",
    "        a: float\n",
    "        b: float\n",
    "    requires:\n",
    "        only_real_numbers\n",
    "    \"\"\"\n",
    "    return float(a) * float(b)\n",
    "\n",
    "def add(a: float, b: float) -> float:\n",
    "    \"\"\"useful tool to Add two numbers and returns the sum,\n",
    "    make sure that both numbers a, b are real numbers and if not try to convert them to real numbers\n",
    "    args:\n",
    "        a: float\n",
    "        b: float\n",
    "\n",
    "    requires:\n",
    "        only_real_numbers\n",
    "    \"\"\"\n",
    "    return float(a) + float(b)\n",
    "\n",
    "def only_real_numbers(a: float) -> float:\n",
    "    \"\"\" useful tool to verify if the number is real\"\"\"\n",
    "    try:\n",
    "        float(a)\n",
    "    except ValueError:\n",
    "        return f\"{a} is not a real number so try converting it to a float and try again\""
   ]
  },
  {
   "cell_type": "code",
   "execution_count": 5,
   "metadata": {},
   "outputs": [],
   "source": [
    "from llama_index.core.agent import FunctionCallingAgent\n",
    "from llama_index.core.tools import FunctionTool\n",
    "\n",
    "add_tool = FunctionTool.from_defaults(fn=add)\n",
    "multiply_tool = FunctionTool.from_defaults(fn=multiply)\n",
    "real_number_tool = FunctionTool.from_defaults(fn=only_real_numbers)\n",
    "\n",
    "class AgentController:\n",
    "    def __init__(self):\n",
    "        self.llm = Generators().get_llm()\n",
    "        self.system_prompt = \"\"\"\n",
    "                                You are a math expert. You will only use the tools available to you.\n",
    "                                IMPORTANT NOTE: You will ALWAYS evaluate the user's query and perfom query classification and provide three things:\n",
    "                                tool_used, reasoning, answer\n",
    "\n",
    "                                like this:\n",
    "\n",
    "                                Answer: answer\n",
    "                                Tool Used: tool_name\n",
    "                                Reasoning: reasoning for using the tool\n",
    "\n",
    "                                An example:\n",
    "\n",
    "                                Answer: 21.0\n",
    "                                Tool Used: multiply\n",
    "                                Reasoning: The tool was used to calculate the product of two numbers.\n",
    "\n",
    "\n",
    "                                Solve the queries STEP by STEP and feel free to use the tools available to you and do not hallucinate or make assumptions.\n",
    "                                \"\"\"\n",
    "        self.agent = self.get_agent()\n",
    "\n",
    "    def get_agent(self):\n",
    "        agent = FunctionCallingAgent.from_tools([multiply_tool, add_tool,\n",
    "                                                 real_number_tool],\n",
    "                                        llm=self.llm,verbose=True,\n",
    "                                        system_prompt=self.system_prompt)\n",
    "        return agent\n",
    "\n",
    "    def chat(self, query: str):\n",
    "        response_obj = self.agent.chat(query)\n",
    "        return response_obj"
   ]
  },
  {
   "cell_type": "code",
   "execution_count": 6,
   "metadata": {},
   "outputs": [
    {
     "name": "stdout",
     "output_type": "stream",
     "text": [
      "> Running step 07b60743-b95d-4054-b356-151a628c920d. Step input: what is 2+2\n",
      "Added user message to memory: what is 2+2\n",
      "=== LLM Response ===\n",
      "Answer: 4.0\n",
      "Tool Used: add\n",
      "Reasoning: The tool was used to calculate the sum of two numbers.\n"
     ]
    },
    {
     "data": {
      "text/plain": [
       "AgentChatResponse(response='Answer: 4.0\\nTool Used: add\\nReasoning: The tool was used to calculate the sum of two numbers.', sources=[], source_nodes=[], is_dummy_stream=False, metadata=None)"
      ]
     },
     "execution_count": 6,
     "metadata": {},
     "output_type": "execute_result"
    }
   ],
   "source": [
    "agent = AgentController()\n",
    "query = \"what is 2+2\"\n",
    "agent.chat(query)"
   ]
  }
 ],
 "metadata": {
  "kernelspec": {
   "display_name": "huggingface",
   "language": "python",
   "name": "python3"
  },
  "language_info": {
   "codemirror_mode": {
    "name": "ipython",
    "version": 3
   },
   "file_extension": ".py",
   "mimetype": "text/x-python",
   "name": "python",
   "nbconvert_exporter": "python",
   "pygments_lexer": "ipython3",
   "version": "3.10.6"
  }
 },
 "nbformat": 4,
 "nbformat_minor": 2
}
